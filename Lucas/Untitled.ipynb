{
 "cells": [
  {
   "cell_type": "code",
   "execution_count": 1,
   "metadata": {},
   "outputs": [],
   "source": [
    "import find_shuffle_num as fsn\n",
    "import deck\n",
    "D = deck.Deck(range(0, 52))"
   ]
  },
  {
   "cell_type": "code",
   "execution_count": 2,
   "metadata": {},
   "outputs": [
    {
     "name": "stdout",
     "output_type": "stream",
     "text": [
      "Right Value = 0.019230769230769232\n",
      "Shuffling 10000 decks of 52 cards 0 times.\n",
      "Shuffling 10000 decks of 52 cards 1 times.\n",
      "Shuffling 10000 decks of 52 cards 2 times.\n",
      "Shuffling 10000 decks of 52 cards 3 times.\n",
      "Shuffling 10000 decks of 52 cards 4 times.\n",
      "Shuffling 10000 decks of 52 cards 5 times.\n",
      "Shuffling 10000 decks of 52 cards 6 times.\n",
      "Shuffling 10000 decks of 52 cards 7 times.\n",
      "Shuffling 10000 decks of 52 cards 8 times.\n",
      "Shuffling 10000 decks of 52 cards 9 times.\n",
      "Shuffling 10000 decks of 52 cards 10 times.\n",
      "Shuffling 10000 decks of 52 cards 11 times.\n",
      "Shuffling 10000 decks of 52 cards 12 times.\n",
      "Shuffling 10000 decks of 52 cards 13 times.\n",
      "Shuffling 10000 decks of 52 cards 14 times.\n",
      "Shuffling 10000 decks of 52 cards 15 times.\n",
      "Shuffling 10000 decks of 52 cards 16 times.\n",
      "Shuffling 10000 decks of 52 cards 17 times.\n",
      "Success! A deck of 52 needs to be shuffled 17 times in order for 2704 of the cards to be within 0.005 of the \"right answer\"\n"
     ]
    },
    {
     "data": {
      "text/plain": [
       "17"
      ]
     },
     "execution_count": 2,
     "metadata": {},
     "output_type": "execute_result"
    }
   ],
   "source": [
    "fsn.get_shuffle_num(D, 0.005, (52**2)*1)"
   ]
  },
  {
   "cell_type": "code",
   "execution_count": null,
   "metadata": {},
   "outputs": [],
   "source": []
  }
 ],
 "metadata": {
  "kernelspec": {
   "display_name": "Python 3",
   "language": "python",
   "name": "python3"
  },
  "language_info": {
   "codemirror_mode": {
    "name": "ipython",
    "version": 3
   },
   "file_extension": ".py",
   "mimetype": "text/x-python",
   "name": "python",
   "nbconvert_exporter": "python",
   "pygments_lexer": "ipython3",
   "version": "3.7.4"
  }
 },
 "nbformat": 4,
 "nbformat_minor": 4
}
