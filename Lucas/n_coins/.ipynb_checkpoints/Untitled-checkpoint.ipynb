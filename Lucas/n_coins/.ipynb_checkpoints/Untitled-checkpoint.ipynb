{
 "cells": [
  {
   "cell_type": "code",
   "execution_count": 36,
   "metadata": {},
   "outputs": [],
   "source": [
    "import numpy as np\n",
    "\n",
    "def get_prob(coins, start_num, end_num, trials):\n",
    "    final_value = 0\n",
    "    for i in range(0, trials):\n",
    "        result = []\n",
    "        for i in range(0, coins):\n",
    "            x = np.random.randint(0, 2)\n",
    "            result.append(x)\n",
    "        num_heads = 0\n",
    "        for r in result:\n",
    "            if r == 1:\n",
    "                num_heads += 1\n",
    "        if start_num <= num_heads <= end_num:\n",
    "            final_value += 1\n",
    "    return final_value/trials"
   ]
  },
  {
   "cell_type": "code",
   "execution_count": 37,
   "metadata": {},
   "outputs": [
    {
     "data": {
      "text/plain": [
       "0.31178"
      ]
     },
     "execution_count": 37,
     "metadata": {},
     "output_type": "execute_result"
    }
   ],
   "source": [
    "get_prob(5, 2, 2, 100000)"
   ]
  },
  {
   "cell_type": "code",
   "execution_count": null,
   "metadata": {},
   "outputs": [],
   "source": []
  }
 ],
 "metadata": {
  "kernelspec": {
   "display_name": "Python 3",
   "language": "python",
   "name": "python3"
  },
  "language_info": {
   "codemirror_mode": {
    "name": "ipython",
    "version": 3
   },
   "file_extension": ".py",
   "mimetype": "text/x-python",
   "name": "python",
   "nbconvert_exporter": "python",
   "pygments_lexer": "ipython3",
   "version": "3.7.6"
  }
 },
 "nbformat": 4,
 "nbformat_minor": 4
}
