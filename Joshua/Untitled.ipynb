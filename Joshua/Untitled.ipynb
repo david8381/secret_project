{
 "cells": [
  {
   "cell_type": "code",
   "execution_count": 4,
   "metadata": {},
   "outputs": [],
   "source": [
    "from cards import Deck\n",
    "import numpy as np\n",
    "import random"
   ]
  },
  {
   "cell_type": "code",
   "execution_count": 11,
   "metadata": {},
   "outputs": [],
   "source": [
    "d=Deck(52)\n",
    "d=d.shuffle(1,26)\n",
    "position=[]\n",
    "position = np.argsort(d.cards)"
   ]
  },
  {
   "cell_type": "code",
   "execution_count": 12,
   "metadata": {},
   "outputs": [
    {
     "name": "stdout",
     "output_type": "stream",
     "text": [
      "[ 3  5  6  7  9 11 13 15 19 21 22 23 25 26 28 31 32 35 42 43 46 47 48 49\n",
      " 50 51  0  1  2  4  8 10 12 14 16 17 18 20 24 27 29 30 33 34 36 37 38 39\n",
      " 40 41 44 45]\n"
     ]
    }
   ],
   "source": [
    "print(position)"
   ]
  },
  {
   "cell_type": "code",
   "execution_count": 13,
   "metadata": {},
   "outputs": [
    {
     "name": "stdout",
     "output_type": "stream",
     "text": [
      "[27, 28, 29, 1, 30, 2, 3, 4, 31, 5, 32, 6, 33, 7, 34, 8, 35, 36, 37, 9, 38, 10, 11, 12, 39, 13, 14, 40, 15, 41, 42, 16, 17, 43, 44, 18, 45, 46, 47, 48, 49, 50, 19, 20, 51, 52, 21, 22, 23, 24, 25, 26]\n"
     ]
    }
   ],
   "source": [
    "print(d)"
   ]
  },
  {
   "cell_type": "code",
   "execution_count": 1,
   "metadata": {},
   "outputs": [],
   "source": [
    "n=5"
   ]
  },
  {
   "cell_type": "code",
   "execution_count": 10,
   "metadata": {},
   "outputs": [
    {
     "name": "stdout",
     "output_type": "stream",
     "text": [
      "1\n"
     ]
    }
   ],
   "source": [
    "coin=random.randint(0,1)\n",
    "print(coin)\n"
   ]
  },
  {
   "cell_type": "code",
   "execution_count": 37,
   "metadata": {},
   "outputs": [
    {
     "name": "stdout",
     "output_type": "stream",
     "text": [
      "(10000000, 5)\n",
      "[0.0312529 0.1564009 0.31241   0.3126274 0.1560608 0.031248 ]\n"
     ]
    }
   ],
   "source": [
    "trials = 10000000\n",
    "repeated = 0\n",
    "coinList=[]\n",
    "gathering=[]\n",
    "for x in range(0,trials):\n",
    "    for l in range(0,n):\n",
    "        coin=random.randint(0,1)\n",
    "        coinList.append(coin)\n",
    "    gathering.append(coinList)\n",
    "    coinList=[]\n",
    "gathering=np.array(gathering)\n",
    "print(gathering.shape)\n",
    "gather=gathering.sum(axis=1)\n",
    "gather,gathering=np.unique(gather,return_counts=True)\n",
    "gathering=gathering/float(trials)\n",
    "print(gathering)"
   ]
  },
  {
   "cell_type": "code",
   "execution_count": 19,
   "metadata": {},
   "outputs": [
    {
     "name": "stdout",
     "output_type": "stream",
     "text": [
      "[1, 1, 0, 1, 1]\n"
     ]
    }
   ],
   "source": [
    "coinList=[]\n",
    "for l in range(0,n):\n",
    "    coin=random.randint(0,1)\n",
    "    coinList.append(coin)\n",
    "print(coinList)"
   ]
  },
  {
   "cell_type": "code",
   "execution_count": null,
   "metadata": {},
   "outputs": [],
   "source": []
  }
 ],
 "metadata": {
  "kernelspec": {
   "display_name": "Python 2",
   "language": "python",
   "name": "python2"
  },
  "language_info": {
   "codemirror_mode": {
    "name": "ipython",
    "version": 2
   },
   "file_extension": ".py",
   "mimetype": "text/x-python",
   "name": "python",
   "nbconvert_exporter": "python",
   "pygments_lexer": "ipython2",
   "version": "2.7.16"
  }
 },
 "nbformat": 4,
 "nbformat_minor": 2
}
